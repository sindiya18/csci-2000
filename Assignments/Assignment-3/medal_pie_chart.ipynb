import matplotlib.pyplot as plt
 
# Data to plot, declaring the lables and the plots to be graphed on pir chart
labels = 'USA', 'CHN', 'GBR', 'RUS', 'KOR', 'GER','FRA', 'ITA', 'HUN','AUS','OTHER'
values = [46, 38, 29, 24,13,11,11,8,8,7,107]
#colours for pie chart
colors = ['gold', 'yellowgreen', 'lightcoral', 'lightskyblue', 'purple', 'orange', 'red', 'pink', 'white', 'darkblue','green']
explode = (0.1, 0, 0, 0, 0, 0, 0, 0, 0, 0, 0)  # 1st slice

 
# Plot function, it computes the sizes, and the number of entires and collages them to pie chart
plt.pie(values, explode=explode, labels=labels, colors=colors,
         autopct='%1.1f%%', shadow=True, startangle=150)
 
plt.axis('equal')

title('2012 Olympic gold medals 100600998', bbox={'facecolor':'0.8', 'pad':10})

plt.show()