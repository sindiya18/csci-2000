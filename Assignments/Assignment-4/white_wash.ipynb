{
 "cells": [
  {
   "cell_type": "code",
   "execution_count": 20,
   "metadata": {
    "collapsed": true
   },
   "outputs": [],
   "source": [
    "#Sindiya Mohan\n",
    "#100600998\n",
    "\n",
    "#import \n",
    "import numpy as np\n",
    "import matplotlib.pyplot as pyplt\n",
    "\n",
    "#C is color map matrix\n",
    "#defining function WhiteWash\n",
    "def WhiteWash(C):\n",
    "    whiteWash =  np.ones_like(C)\n",
    "    output = ((C + whiteWash))\n",
    "    return output\n",
    "\n",
    "#randomly selecting the size of matrix. \n",
    "sizeof_matrix = np.random.randint(1,3)\n",
    "\n",
    "#randoms variables that are 0 < 1\n",
    "colour = np.random.rand(sizeof_matrix,3)\n",
    "white_wash = WhiteWash(colour)\n",
    "\n",
    "#plotting colour maps\n",
    "colour_maplot = pyplt.imshow(colour)\n",
    "pyplt.show(plot)\n",
    "whitewashplot = pyplt.imshow(white_wash)\n",
    "pyplt.show(whitewashplot)\n"
   ]
  },
  {
   "cell_type": "code",
   "execution_count": null,
   "metadata": {
    "collapsed": true
   },
   "outputs": [],
   "source": []
  }
 ],
 "metadata": {
  "kernelspec": {
   "display_name": "Python 3",
   "language": "python",
   "name": "python3"
  },
  "language_info": {
   "codemirror_mode": {
    "name": "ipython",
    "version": 3
   },
   "file_extension": ".py",
   "mimetype": "text/x-python",
   "name": "python",
   "nbconvert_exporter": "python",
   "pygments_lexer": "ipython3",
   "version": "3.4.3"
  }
 },
 "nbformat": 4,
 "nbformat_minor": 0
}
